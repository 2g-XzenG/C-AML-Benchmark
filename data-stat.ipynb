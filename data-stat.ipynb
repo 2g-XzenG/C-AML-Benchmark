{
 "cells": [
  {
   "cell_type": "code",
   "execution_count": 2,
   "id": "f68dad8d",
   "metadata": {},
   "outputs": [],
   "source": [
    "import pandas as pd\n",
    "import numpy as np"
   ]
  },
  {
   "cell_type": "markdown",
   "id": "611dde27",
   "metadata": {},
   "source": [
    "# Statistic\n",
    "\n",
    "- #Customer\n",
    "- #Alerted Customer\n",
    "- %Alerted Customer\n",
    "- #Transactions\n",
    "- Total Transaction Amount\n",
    "- Avg. Transaction Amount"
   ]
  },
  {
   "cell_type": "markdown",
   "id": "926778dc",
   "metadata": {},
   "source": [
    "# SAML-D"
   ]
  },
  {
   "cell_type": "code",
   "execution_count": 3,
   "id": "61180104",
   "metadata": {},
   "outputs": [],
   "source": [
    "data = pd.read_csv(\"data/SAML-D/SAML-D.csv\")"
   ]
  },
  {
   "cell_type": "code",
   "execution_count": 6,
   "id": "bc41684b",
   "metadata": {},
   "outputs": [
    {
     "data": {
      "text/plain": [
       "Index(['Time', 'Date', 'Sender_account', 'Receiver_account', 'Amount',\n",
       "       'Payment_currency', 'Received_currency', 'Sender_bank_location',\n",
       "       'Receiver_bank_location', 'Payment_type', 'Is_laundering',\n",
       "       'Laundering_type'],\n",
       "      dtype='object')"
      ]
     },
     "execution_count": 6,
     "metadata": {},
     "output_type": "execute_result"
    }
   ],
   "source": [
    "data.columns"
   ]
  },
  {
   "cell_type": "code",
   "execution_count": 7,
   "id": "8e8c8c21",
   "metadata": {},
   "outputs": [
    {
     "name": "stdout",
     "output_type": "stream",
     "text": [
      "#Customer: 855460\n",
      "#Alerted Customer: 7902\n",
      "%Alerted Customer: 0.9237135576181235\n",
      "#Transactions: 9504852\n",
      "Total Transaction Amount: 83290710127.60838\n",
      "Avg. Transaction Amount: 8762.96760092723\n"
     ]
    }
   ],
   "source": [
    "unique_accounts = pd.concat([data['Sender_account'], data['Receiver_account']]).drop_duplicates()\n",
    "\n",
    "# Filter to find accounts involved in laundering\n",
    "alerted_accounts = pd.concat([\n",
    "    data.loc[data['Is_laundering'] == 1, 'Sender_account'],\n",
    "    data.loc[data['Is_laundering'] == 1, 'Receiver_account']\n",
    "]).drop_duplicates()\n",
    "\n",
    "# Statistics calculations\n",
    "stats = {\n",
    "    '#Customer': len(unique_accounts),\n",
    "    '#Alerted Customer': len(alerted_accounts),\n",
    "    '%Alerted Customer': (len(alerted_accounts) / len(unique_accounts)) * 100 if len(unique_accounts) > 0 else 0,\n",
    "    '#Transactions': len(data),\n",
    "    'Total Transaction Amount': data['Amount'].sum(),\n",
    "    'Avg. Transaction Amount': data['Amount'].mean()\n",
    "}\n",
    "\n",
    "# Printing the statistics\n",
    "for key, value in stats.items():\n",
    "    print(f\"{key}: {value}\")"
   ]
  },
  {
   "cell_type": "markdown",
   "id": "0928a85d",
   "metadata": {},
   "source": [
    "# LI-Small"
   ]
  },
  {
   "cell_type": "code",
   "execution_count": 9,
   "id": "df86e2ff",
   "metadata": {},
   "outputs": [],
   "source": [
    "data = pd.read_csv(\"data/AML-World/LI-Small_Trans.csv\")"
   ]
  },
  {
   "cell_type": "code",
   "execution_count": 13,
   "id": "50687138",
   "metadata": {},
   "outputs": [
    {
     "data": {
      "text/plain": [
       "Index(['Timestamp', 'From Bank', 'Account', 'To Bank', 'Account.1',\n",
       "       'Amount Received', 'Receiving Currency', 'Amount Paid',\n",
       "       'Payment Currency', 'Payment Format', 'Is Laundering'],\n",
       "      dtype='object')"
      ]
     },
     "execution_count": 13,
     "metadata": {},
     "output_type": "execute_result"
    }
   ],
   "source": [
    "data.columns"
   ]
  },
  {
   "cell_type": "code",
   "execution_count": 20,
   "id": "bc529626",
   "metadata": {},
   "outputs": [
    {
     "name": "stdout",
     "output_type": "stream",
     "text": [
      "#Customer: 515088\n",
      "#Alerted Customer: 6357\n",
      "%Alerted Customer: 1.234158046780356\n",
      "#Transactions: 5078345\n",
      "Total Transaction Amount: 53312462955026.55\n",
      "Avg. Transaction Amount: 5248999.718907099\n"
     ]
    }
   ],
   "source": [
    "# Convert 'From Bank' and 'Account' to string and create unique customer IDs for sender\n",
    "data['Sender_Customer_ID'] = data['From Bank'].astype(str) + data['Account'].astype(str)\n",
    "\n",
    "# Convert 'To Bank' and 'Account.1' to string and create unique customer IDs for receiver\n",
    "data['Receiver_Customer_ID'] = data['To Bank'].astype(str) + data['Account.1'].astype(str)\n",
    "\n",
    "# Preprocessing to ensure that accounts are not double-counted as both senders and receivers\n",
    "unique_accounts = pd.concat([data['Sender_Customer_ID'], data['Receiver_Customer_ID']]).drop_duplicates()\n",
    "\n",
    "# Filter to find accounts involved in laundering, again creating unique IDs and then finding unique ones\n",
    "alerted_accounts = pd.concat([\n",
    "    data.loc[data['Is Laundering'] == 1, 'Sender_Customer_ID'],\n",
    "    data.loc[data['Is Laundering'] == 1, 'Receiver_Customer_ID']\n",
    "]).drop_duplicates()\n",
    "\n",
    "# Statistics calculations\n",
    "stats = {\n",
    "    '#Customer': len(unique_accounts),\n",
    "    '#Alerted Customer': len(alerted_accounts),\n",
    "    '%Alerted Customer': (len(alerted_accounts) / len(unique_accounts)) * 100 if len(unique_accounts) > 0 else 0,\n",
    "    '#Transactions': len(data),\n",
    "    'Total Transaction Amount': data[['Amount Received', 'Amount Paid']].sum().sum(),\n",
    "    'Avg. Transaction Amount': data[['Amount Received', 'Amount Paid']].mean().mean()\n",
    "}\n",
    "\n",
    "# Printing the statistics\n",
    "for key, value in stats.items():\n",
    "    print(f\"{key}: {value}\")"
   ]
  },
  {
   "cell_type": "markdown",
   "id": "785b9cae",
   "metadata": {},
   "source": [
    "# HI-Small"
   ]
  },
  {
   "cell_type": "code",
   "execution_count": 18,
   "id": "10e7b73e",
   "metadata": {},
   "outputs": [],
   "source": [
    "data = pd.read_csv(\"data/AML-World/HI-Small_Trans.csv\")"
   ]
  },
  {
   "cell_type": "code",
   "execution_count": 19,
   "id": "d6fe0717",
   "metadata": {},
   "outputs": [
    {
     "name": "stdout",
     "output_type": "stream",
     "text": [
      "#Customer: 515088\n",
      "#Alerted Customer: 6357\n",
      "%Alerted Customer: 1.234158046780356\n",
      "#Transactions: 5078345\n",
      "Avg Transaction Count: 53312462955026.55\n",
      "Avg. Transaction Amount: 5248999.718907099\n"
     ]
    }
   ],
   "source": [
    "# Convert 'From Bank' and 'Account' to string and create unique customer IDs for sender\n",
    "data['Sender_Customer_ID'] = data['From Bank'].astype(str) + data['Account'].astype(str)\n",
    "\n",
    "# Convert 'To Bank' and 'Account.1' to string and create unique customer IDs for receiver\n",
    "data['Receiver_Customer_ID'] = data['To Bank'].astype(str) + data['Account.1'].astype(str)\n",
    "\n",
    "# Preprocessing to ensure that accounts are not double-counted as both senders and receivers\n",
    "unique_accounts = pd.concat([data['Sender_Customer_ID'], data['Receiver_Customer_ID']]).drop_duplicates()\n",
    "\n",
    "# Filter to find accounts involved in laundering, again creating unique IDs and then finding unique ones\n",
    "alerted_accounts = pd.concat([\n",
    "    data.loc[data['Is Laundering'] == 1, 'Sender_Customer_ID'],\n",
    "    data.loc[data['Is Laundering'] == 1, 'Receiver_Customer_ID']\n",
    "]).drop_duplicates()\n",
    "\n",
    "# Statistics calculations\n",
    "stats = {\n",
    "    '#Customer': len(unique_accounts),\n",
    "    '#Alerted Customer': len(alerted_accounts),\n",
    "    '%Alerted Customer': (len(alerted_accounts) / len(unique_accounts)) * 100 if len(unique_accounts) > 0 else 0,\n",
    "    '#Transactions': len(data),\n",
    "    'Total Transaction Amount': data[['Amount Received', 'Amount Paid']].sum().sum(),\n",
    "    'Avg. Transaction Amount': data[['Amount Received', 'Amount Paid']].mean().mean()\n",
    "}\n",
    "\n",
    "# Printing the statistics\n",
    "for key, value in stats.items():\n",
    "    print(f\"{key}: {value}\")"
   ]
  },
  {
   "cell_type": "code",
   "execution_count": null,
   "id": "4f2cfb49",
   "metadata": {},
   "outputs": [],
   "source": []
  }
 ],
 "metadata": {
  "kernelspec": {
   "display_name": "Python 3 (ipykernel)",
   "language": "python",
   "name": "python3"
  },
  "language_info": {
   "codemirror_mode": {
    "name": "ipython",
    "version": 3
   },
   "file_extension": ".py",
   "mimetype": "text/x-python",
   "name": "python",
   "nbconvert_exporter": "python",
   "pygments_lexer": "ipython3",
   "version": "3.9.16"
  }
 },
 "nbformat": 4,
 "nbformat_minor": 5
}
